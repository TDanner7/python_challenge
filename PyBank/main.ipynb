{
 "cells": [
  {
   "cell_type": "code",
   "execution_count": 1,
   "id": "8f68f829-0b79-4dd3-991d-e5055c504c3d",
   "metadata": {
    "tags": []
   },
   "outputs": [],
   "source": [
    "#import pathlib and csv\n",
    "from pathlib import Path\n",
    "import csv"
   ]
  },
  {
   "cell_type": "code",
   "execution_count": 2,
   "id": "efc16d42-38f5-44b9-81ab-498179b4018a",
   "metadata": {
    "tags": []
   },
   "outputs": [],
   "source": [
    "#import csv file\n",
    "csvpath = Path(\"../Starter_Code/PyBank/resources/budget_data.csv\")"
   ]
  },
  {
   "cell_type": "code",
   "execution_count": 3,
   "id": "21789645-75f3-48ea-80e5-1a9eee519367",
   "metadata": {
    "tags": []
   },
   "outputs": [],
   "source": [
    "#create variables\n",
    "total_months = 0\n",
    "total_pl = 0\n",
    "record_count = 0\n",
    "av_pl_change = 0\n",
    "greatest_increase = 0\n",
    "greatest_decrease = 0"
   ]
  },
  {
   "cell_type": "code",
   "execution_count": 4,
   "id": "be80bb2c-ec71-4b35-be30-a4390803a3d4",
   "metadata": {
    "tags": []
   },
   "outputs": [],
   "source": [
    "#create a function for average for fun\n",
    "def average (total, number_of_records):\n",
    "    average = (total / number_of_records)\n",
    "    print(average)"
   ]
  },
  {
   "cell_type": "code",
   "execution_count": null,
   "id": "33807557-7119-4cf7-9db4-03217bdca3f1",
   "metadata": {},
   "outputs": [],
   "source": [
    "#read csv path\n"
   ]
  }
 ],
 "metadata": {
  "kernelspec": {
   "display_name": "Python 3 (ipykernel)",
   "language": "python",
   "name": "python3"
  },
  "language_info": {
   "codemirror_mode": {
    "name": "ipython",
    "version": 3
   },
   "file_extension": ".py",
   "mimetype": "text/x-python",
   "name": "python",
   "nbconvert_exporter": "python",
   "pygments_lexer": "ipython3",
   "version": "3.10.13"
  }
 },
 "nbformat": 4,
 "nbformat_minor": 5
}
