{
 "cells": [
  {
   "cell_type": "code",
   "execution_count": 1,
   "id": "8f68f829-0b79-4dd3-991d-e5055c504c3d",
   "metadata": {
    "tags": []
   },
   "outputs": [],
   "source": [
    "#import pathlib and csv\n",
    "from pathlib import Path\n",
    "import csv"
   ]
  },
  {
   "cell_type": "code",
   "execution_count": 2,
   "id": "efc16d42-38f5-44b9-81ab-498179b4018a",
   "metadata": {
    "tags": []
   },
   "outputs": [],
   "source": [
    "#import csv file\n",
    "csvpath = Path(\"../Starter_Code/PyBank/resources/budget_data.csv\")"
   ]
  },
  {
   "cell_type": "code",
   "execution_count": 3,
   "id": "21789645-75f3-48ea-80e5-1a9eee519367",
   "metadata": {
    "tags": []
   },
   "outputs": [],
   "source": [
    "#create variables\n",
    "total_months = 0\n",
    "total_pl = 0\n",
    "record_count = 0\n",
    "av_pl_change = 0.00\n",
    "greatest_increase = 0\n",
    "greatest_decrease = 0\n",
    "greatest_increase_month = \"\"\n",
    "greatest_decrease_month = \"\"\n",
    "months = []\n",
    "prof_loss = []\n",
    "month_pl = {}"
   ]
  },
  {
   "cell_type": "code",
   "execution_count": 4,
   "id": "be80bb2c-ec71-4b35-be30-a4390803a3d4",
   "metadata": {
    "tags": []
   },
   "outputs": [],
   "source": [
    "#create a function for average for fun\n",
    "#could just do this manually\n",
    "def average (total, number_of_records):\n",
    "    average = round((total / number_of_records), 2)\n",
    "    return(average)"
   ]
  },
  {
   "cell_type": "code",
   "execution_count": 5,
   "id": "33807557-7119-4cf7-9db4-03217bdca3f1",
   "metadata": {
    "tags": []
   },
   "outputs": [
    {
     "name": "stdout",
     "output_type": "stream",
     "text": [
      "38382578\n"
     ]
    }
   ],
   "source": [
    "#read csv path\n",
    "#for loop to find total PL\n",
    "with open(csvpath, 'r') as csvfile:\n",
    "    csvreader = csv.reader(csvfile, delimiter=',')\n",
    "    csv_header = next(csvreader)\n",
    "    for row in csvreader:\n",
    "        date = (row[0])\n",
    "        pl = int(row[1])\n",
    "        months.append(row[0])\n",
    "        prof_loss.append(int(row[1]))\n",
    "        month_pl.update({int(row[1]): row[0]})\n",
    "        total_pl += pl\n",
    "print (total_pl)"
   ]
  },
  {
   "cell_type": "code",
   "execution_count": 6,
   "id": "d6865161-545e-410b-9595-215211d5430e",
   "metadata": {
    "tags": []
   },
   "outputs": [
    {
     "name": "stdout",
     "output_type": "stream",
     "text": [
      "86\n",
      "-1196225\n",
      "1170593\n"
     ]
    }
   ],
   "source": [
    "#find numb of months\n",
    "#find Max Min PL\n",
    "for month in months:\n",
    "    total_months += 1\n",
    "print(total_months)\n",
    "for numb in prof_loss:\n",
    "    if greatest_decrease == 0:\n",
    "        greatest_decrease = numb\n",
    "    elif numb < greatest_decrease:\n",
    "        greatest_decrease = numb\n",
    "    elif numb > greatest_increase:\n",
    "        greatest_increase = numb\n",
    "print(greatest_decrease)\n",
    "print(greatest_increase)"
   ]
  },
  {
   "cell_type": "code",
   "execution_count": 7,
   "id": "d89e5464-e7f6-485c-aabe-2e6b047ea8a5",
   "metadata": {
    "tags": []
   },
   "outputs": [
    {
     "name": "stdout",
     "output_type": "stream",
     "text": [
      "Feb-2012\n",
      "Sep-2013\n"
     ]
    }
   ],
   "source": [
    "#find month of max and min\n",
    "greatest_increase_month = month_pl[greatest_increase]\n",
    "greatest_decrease_month = month_pl[greatest_decrease]\n",
    "print(greatest_increase_month)\n",
    "print(greatest_decrease_month)"
   ]
  },
  {
   "cell_type": "code",
   "execution_count": 8,
   "id": "639c19e0-5b27-432a-a641-eb965d159e88",
   "metadata": {
    "tags": []
   },
   "outputs": [
    {
     "name": "stdout",
     "output_type": "stream",
     "text": [
      "446309.05\n"
     ]
    }
   ],
   "source": [
    "#find average change\n",
    "av_pl_change = average (total_pl, total_months)\n",
    "print(av_pl_change)"
   ]
  },
  {
   "cell_type": "code",
   "execution_count": 9,
   "id": "3aeb690e-f958-4d7c-ba54-d3b2f6730bff",
   "metadata": {},
   "outputs": [],
   "source": [
    "#set output file \n",
    "Path.cwd()\n",
    "output_path = Path('analysis_output.txt')"
   ]
  },
  {
   "cell_type": "code",
   "execution_count": 10,
   "id": "9aa78836-7434-45d5-a6c7-6ae36781ed45",
   "metadata": {},
   "outputs": [],
   "source": [
    "#open output file\n",
    "#print text to output file\n",
    "with open(output_path, 'w') as txtfile:\n",
    "    txtfile.write(\"Financial Analysis\\n\")\n",
    "    txtfile.write(\"-------------------------------------\\n\")\n",
    "    txtfile.write(f\"Number of Total Periods: {total_months}\\n\")\n",
    "    txtfile.write(f\"Total Profits/Losses: ${total_pl}\\n\")\n",
    "    txtfile.write(f\"Average Change in Profit/Loss: ${av_pl_change}\\n\")\n",
    "    txtfile.write(f\"Greatest Increase in Profits: {greatest_increase_month}  (${greatest_increase})\\n\")\n",
    "    txtfile.write(f\"Greatest Decrease in Profits: {greatest_decrease_month}  (${greatest_decrease})\\n\")"
   ]
  },
  {
   "cell_type": "code",
   "execution_count": 11,
   "id": "ca6a8a2a-db69-490a-9be5-e6787826fd59",
   "metadata": {
    "tags": []
   },
   "outputs": [
    {
     "name": "stdout",
     "output_type": "stream",
     "text": [
      "Financial Analysis\n",
      "-------------------------------------\n",
      "Number of Total Periods: 86\n",
      "Total Profits/Losses: $38382578\n",
      "Average Change in Profit/Loss: $446309.05\n",
      "Greatest Increase in Profits: Feb-2012  ($1170593)\n",
      "Greatest Decrease in Profits: Sep-2013  ($-1196225)\n"
     ]
    }
   ],
   "source": [
    "#print results\n",
    "print(\"Financial Analysis\")\n",
    "print(\"-------------------------------------\")\n",
    "print(f\"Number of Total Periods: {total_months}\")\n",
    "print(f\"Total Profits/Losses: ${total_pl}\")\n",
    "print(f\"Average Change in Profit/Loss: ${av_pl_change}\")\n",
    "print(f\"Greatest Increase in Profits: {greatest_increase_month}  (${greatest_increase})\")\n",
    "print(f\"Greatest Decrease in Profits: {greatest_decrease_month}  (${greatest_decrease})\")"
   ]
  }
 ],
 "metadata": {
  "kernelspec": {
   "display_name": "Python 3 (ipykernel)",
   "language": "python",
   "name": "python3"
  },
  "language_info": {
   "codemirror_mode": {
    "name": "ipython",
    "version": 3
   },
   "file_extension": ".py",
   "mimetype": "text/x-python",
   "name": "python",
   "nbconvert_exporter": "python",
   "pygments_lexer": "ipython3",
   "version": "3.10.13"
  }
 },
 "nbformat": 4,
 "nbformat_minor": 5
}
